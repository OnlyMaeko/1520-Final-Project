{
 "cells": [
  {
   "cell_type": "code",
   "execution_count": 6,
   "metadata": {},
   "outputs": [
    {
     "ename": "SyntaxError",
     "evalue": "unterminated string literal (detected at line 43) (2150909690.py, line 43)",
     "output_type": "error",
     "traceback": [
      "\u001b[1;36m  Cell \u001b[1;32mIn[6], line 43\u001b[1;36m\u001b[0m\n\u001b[1;33m    filename = f\"{username}_chess_games.json\u001b[0m\n\u001b[1;37m               ^\u001b[0m\n\u001b[1;31mSyntaxError\u001b[0m\u001b[1;31m:\u001b[0m unterminated string literal (detected at line 43)\n"
     ]
    }
   ],
   "source": [
    "import requests\n",
    "import json\n",
    "\n",
    "username = \"EliteBarbs13\"\n",
    "\n",
    "# Step 1: Get archive links\n",
    "archives_url = f\"https://api.chess.com/pub/player/{username}/games/archives\"\n",
    "response = requests.get(archives_url)\n",
    "\n",
    "# Check if the request was successful\n",
    "if response.status_code != 200:\n",
    "    print(f\"Error: Failed to fetch archives (Status Code: {response.status_code})\")\n",
    "    print(response.text)  # Print response for debugging\n",
    "    exit()\n",
    "\n",
    "# Parse response JSON safely\n",
    "try:\n",
    "    archives = response.json().get(\"archives\", [])\n",
    "except json.JSONDecodeError:\n",
    "    print(\"Error: Failed to decode JSON response for archives.\")\n",
    "    exit()\n",
    "\n",
    "# Step 2: Download all games\n",
    "all_games = []\n",
    "for archive_url in archives:\n",
    "    data_response = requests.get(archive_url)\n",
    "    \n",
    "    # Check if request was successful\n",
    "    if data_response.status_code != 200:\n",
    "        print(f\"Warning: Failed to fetch {archive_url} (Status Code: {data_response.status_code})\")\n",
    "        continue  # Skip to next archive\n",
    "\n",
    "    # Parse JSON safely\n",
    "    try:\n",
    "        data = data_response.json()\n",
    "        all_games.extend(data.get(\"games\", []))\n",
    "    except json.JSONDecodeError:\n",
    "        print(f\"Warning: Failed to decode JSON response for {archive_url}\")\n",
    "        continue\n",
    "\n",
    "# Step 3: Save to a JSON file if there are games\n",
    "if all_games:\n",
    "    filename = f\"{username}_chess_games.json\n"
   ]
  },
  {
   "cell_type": "markdown",
   "metadata": {},
   "source": [
    "{\"archives\":[\"https://api.chess.com/pub/player/elitebarbs13/games/2017/09\",\"https://api.chess.com/pub/player/elitebarbs13/games/2019/10\",\"https://api.chess.com/pub/player/elitebarbs13/games/2019/11\",\"https://api.chess.com/pub/player/elitebarbs13/games/2019/12\",\"https://api.chess.com/pub/player/elitebarbs13/games/2020/01\",\"https://api.chess.com/pub/player/elitebarbs13/games/2020/02\",\"https://api.chess.com/pub/player/elitebarbs13/games/2020/03\",\"https://api.chess.com/pub/player/elitebarbs13/games/2020/04\",\"https://api.chess.com/pub/player/elitebarbs13/games/2020/05\",\"https://api.chess.com/pub/player/elitebarbs13/games/2020/06\",\"https://api.chess.com/pub/player/elitebarbs13/games/2020/07\",\"https://api.chess.com/pub/player/elitebarbs13/games/2020/08\",\"https://api.chess.com/pub/player/elitebarbs13/games/2020/10\",\"https://api.chess.com/pub/player/elitebarbs13/games/2021/01\",\"https://api.chess.com/pub/player/elitebarbs13/games/2021/02\",\"https://api.chess.com/pub/player/elitebarbs13/games/2021/06\",\"https://api.chess.com/pub/player/elitebarbs13/games/2021/08\",\"https://api.chess.com/pub/player/elitebarbs13/games/2021/09\",\"https://api.chess.com/pub/player/elitebarbs13/games/2021/10\",\"https://api.chess.com/pub/player/elitebarbs13/games/2021/11\",\"https://api.chess.com/pub/player/elitebarbs13/games/2021/12\",\"https://api.chess.com/pub/player/elitebarbs13/games/2022/01\",\"https://api.chess.com/pub/player/elitebarbs13/games/2022/02\",\"https://api.chess.com/pub/player/elitebarbs13/games/2022/03\",\"https://api.chess.com/pub/player/elitebarbs13/games/2022/04\",\"https://api.chess.com/pub/player/elitebarbs13/games/2022/05\",\"https://api.chess.com/pub/player/elitebarbs13/games/2022/06\",\"https://api.chess.com/pub/player/elitebarbs13/games/2022/07\",\"https://api.chess.com/pub/player/elitebarbs13/games/2022/08\",\"https://api.chess.com/pub/player/elitebarbs13/games/2022/09\",\"https://api.chess.com/pub/player/elitebarbs13/games/2022/10\",\"https://api.chess.com/pub/player/elitebarbs13/games/2022/11\",\"https://api.chess.com/pub/player/elitebarbs13/games/2022/12\",\"https://api.chess.com/pub/player/elitebarbs13/games/2023/01\",\"https://api.chess.com/pub/player/elitebarbs13/games/2023/02\",\"https://api.chess.com/pub/player/elitebarbs13/games/2023/03\",\"https://api.chess.com/pub/player/elitebarbs13/games/2023/04\",\"https://api.chess.com/pub/player/elitebarbs13/games/2023/05\",\"https://api.chess.com/pub/player/elitebarbs13/games/2023/06\",\"https://api.chess.com/pub/player/elitebarbs13/games/2023/07\",\"https://api.chess.com/pub/player/elitebarbs13/games/2023/08\",\"https://api.chess.com/pub/player/elitebarbs13/games/2023/09\",\"https://api.chess.com/pub/player/elitebarbs13/games/2023/10\",\"https://api.chess.com/pub/player/elitebarbs13/games/2023/11\",\"https://api.chess.com/pub/player/elitebarbs13/games/2023/12\",\"https://api.chess.com/pub/player/elitebarbs13/games/2024/01\",\"https://api.chess.com/pub/player/elitebarbs13/games/2024/02\",\"https://api.chess.com/pub/player/elitebarbs13/games/2024/03\",\"https://api.chess.com/pub/player/elitebarbs13/games/2024/04\",\"https://api.chess.com/pub/player/elitebarbs13/games/2024/05\",\"https://api.chess.com/pub/player/elitebarbs13/games/2024/06\",\"https://api.chess.com/pub/player/elitebarbs13/games/2024/07\",\"https://api.chess.com/pub/player/elitebarbs13/games/2024/08\",\"https://api.chess.com/pub/player/elitebarbs13/games/2024/09\",\"https://api.chess.com/pub/player/elitebarbs13/games/2024/10\",\"https://api.chess.com/pub/player/elitebarbs13/games/2024/11\",\"https://api.chess.com/pub/player/elitebarbs13/games/2024/12\",\"https://api.chess.com/pub/player/elitebarbs13/games/2025/01\",\"https://api.chess.com/pub/player/elitebarbs13/games/2025/02\",\"https://api.chess.com/pub/player/elitebarbs13/games/2025/03\"]}"
   ]
  }
 ],
 "metadata": {
  "kernelspec": {
   "display_name": "Python 3",
   "language": "python",
   "name": "python3"
  },
  "language_info": {
   "codemirror_mode": {
    "name": "ipython",
    "version": 3
   },
   "file_extension": ".py",
   "mimetype": "text/x-python",
   "name": "python",
   "nbconvert_exporter": "python",
   "pygments_lexer": "ipython3",
   "version": "3.11.4"
  }
 },
 "nbformat": 4,
 "nbformat_minor": 2
}
